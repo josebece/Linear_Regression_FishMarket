{
 "cells": [
  {
   "cell_type": "markdown",
   "metadata": {},
   "source": [
    "# Fish Dataset\n",
    "- The following data was obtained from : https://www.kaggle.com/datasets/aungpyaeap/fish-market\n",
    "  \n"
   ]
  },
  {
   "cell_type": "code",
   "execution_count": 64,
   "metadata": {},
   "outputs": [],
   "source": [
    "import numpy as np\n",
    "import pandas as pd\n",
    "from sklearn.linear_model import  LinearRegression\n",
    "from sklearn.model_selection import train_test_split\n",
    "import matplotlib.pyplot as plt\n",
    "from sklearn.metrics import mean_squared_error\n",
    "import math\n",
    "import seaborn as sns"
   ]
  },
  {
   "cell_type": "markdown",
   "metadata": {},
   "source": [
    "- The Length is measured in cm\n",
    "- The Weight is measured in g  "
   ]
  },
  {
   "cell_type": "code",
   "execution_count": 65,
   "metadata": {},
   "outputs": [
    {
     "data": {
      "text/html": [
       "<div>\n",
       "<style scoped>\n",
       "    .dataframe tbody tr th:only-of-type {\n",
       "        vertical-align: middle;\n",
       "    }\n",
       "\n",
       "    .dataframe tbody tr th {\n",
       "        vertical-align: top;\n",
       "    }\n",
       "\n",
       "    .dataframe thead th {\n",
       "        text-align: right;\n",
       "    }\n",
       "</style>\n",
       "<table border=\"1\" class=\"dataframe\">\n",
       "  <thead>\n",
       "    <tr style=\"text-align: right;\">\n",
       "      <th></th>\n",
       "      <th>Species</th>\n",
       "      <th>Weight</th>\n",
       "      <th>Length1</th>\n",
       "      <th>Length2</th>\n",
       "      <th>Length3</th>\n",
       "      <th>Height</th>\n",
       "      <th>Width</th>\n",
       "    </tr>\n",
       "  </thead>\n",
       "  <tbody>\n",
       "    <tr>\n",
       "      <th>0</th>\n",
       "      <td>Bream</td>\n",
       "      <td>242.0</td>\n",
       "      <td>23.2</td>\n",
       "      <td>25.4</td>\n",
       "      <td>30.0</td>\n",
       "      <td>11.5200</td>\n",
       "      <td>4.0200</td>\n",
       "    </tr>\n",
       "    <tr>\n",
       "      <th>1</th>\n",
       "      <td>Bream</td>\n",
       "      <td>290.0</td>\n",
       "      <td>24.0</td>\n",
       "      <td>26.3</td>\n",
       "      <td>31.2</td>\n",
       "      <td>12.4800</td>\n",
       "      <td>4.3056</td>\n",
       "    </tr>\n",
       "    <tr>\n",
       "      <th>2</th>\n",
       "      <td>Bream</td>\n",
       "      <td>340.0</td>\n",
       "      <td>23.9</td>\n",
       "      <td>26.5</td>\n",
       "      <td>31.1</td>\n",
       "      <td>12.3778</td>\n",
       "      <td>4.6961</td>\n",
       "    </tr>\n",
       "    <tr>\n",
       "      <th>3</th>\n",
       "      <td>Bream</td>\n",
       "      <td>363.0</td>\n",
       "      <td>26.3</td>\n",
       "      <td>29.0</td>\n",
       "      <td>33.5</td>\n",
       "      <td>12.7300</td>\n",
       "      <td>4.4555</td>\n",
       "    </tr>\n",
       "    <tr>\n",
       "      <th>4</th>\n",
       "      <td>Bream</td>\n",
       "      <td>430.0</td>\n",
       "      <td>26.5</td>\n",
       "      <td>29.0</td>\n",
       "      <td>34.0</td>\n",
       "      <td>12.4440</td>\n",
       "      <td>5.1340</td>\n",
       "    </tr>\n",
       "  </tbody>\n",
       "</table>\n",
       "</div>"
      ],
      "text/plain": [
       "  Species  Weight  Length1  Length2  Length3   Height   Width\n",
       "0   Bream   242.0     23.2     25.4     30.0  11.5200  4.0200\n",
       "1   Bream   290.0     24.0     26.3     31.2  12.4800  4.3056\n",
       "2   Bream   340.0     23.9     26.5     31.1  12.3778  4.6961\n",
       "3   Bream   363.0     26.3     29.0     33.5  12.7300  4.4555\n",
       "4   Bream   430.0     26.5     29.0     34.0  12.4440  5.1340"
      ]
     },
     "execution_count": 65,
     "metadata": {},
     "output_type": "execute_result"
    }
   ],
   "source": [
    "fish_dataset = pd.read_csv('Fish.csv')\n",
    "fish_dataset.head()"
   ]
  },
  {
   "cell_type": "code",
   "execution_count": 66,
   "metadata": {},
   "outputs": [],
   "source": [
    "fish_dataset.head()\n",
    "train_data, test_data = train_test_split(fish_dataset, test_size = 0.2)"
   ]
  },
  {
   "cell_type": "markdown",
   "metadata": {},
   "source": [
    "A few plots to give us sense of the data and Train/Testing Data"
   ]
  },
  {
   "cell_type": "code",
   "execution_count": 67,
   "metadata": {},
   "outputs": [
    {
     "data": {
      "text/plain": [
       "[Text(0.5, 1.0, 'Heatmap')]"
      ]
     },
     "execution_count": 67,
     "metadata": {},
     "output_type": "execute_result"
    },
    {
     "data": {
      "image/png": "[encoded data removed]",
      "text/plain": [
       "<Figure size 432x288 with 2 Axes>"
      ]
     },
     "metadata": {
      "needs_background": "light"
     },
     "output_type": "display_data"
    }
   ],
   "source": [
    "sns.heatmap(fish_dataset.corr(), linewidth = 0.5,cmap=\"PiYG\").set(title = 'Heatmap')"
   ]
  },
  {
   "cell_type": "code",
   "execution_count": 68,
   "metadata": {},
   "outputs": [
    {
     "data": {
      "text/plain": [
       "Text(0.5, 1.0, 'Weight vs Length')"
      ]
     },
     "execution_count": 68,
     "metadata": {},
     "output_type": "execute_result"
    },
    {
     "data": {
      "image/png": "[encoded data removed]",
      "text/plain": [
       "<Figure size 432x288 with 1 Axes>"
      ]
     },
     "metadata": {
      "needs_background": "light"
     },
     "output_type": "display_data"
    }
   ],
   "source": [
    "\n",
    "plt.scatter(train_data['Length1'],train_data['Weight'],marker = '+', label = 'Train')\n",
    "plt.scatter(test_data['Length1'],test_data['Weight'],marker = '.', label = 'Test')\n",
    "plt.legend()\n",
    "plt.xlabel('Length1')\n",
    "plt.ylabel('Weight')\n",
    "plt.title('Weight vs Length')\n",
    "\n"
   ]
  },
  {
   "cell_type": "markdown",
   "metadata": {},
   "source": [
    "Building the Model using Linear Regression with the Linear Algebra Library from Numpy"
   ]
  },
  {
   "cell_type": "code",
   "execution_count": 70,
   "metadata": {},
   "outputs": [
    {
     "name": "stdout",
     "output_type": "stream",
     "text": [
      "The Train RMSE of all the features is : 116.226389\n",
      "The Test RMSE of all the features is : 141.879800\n",
      "The y - intercept is:\n",
      "-490.8433045746175\n",
      "The coefficients are:\n",
      "[ 89.15922378 -55.42207844  -7.76726016  21.92624154  39.20407115]\n"
     ]
    }
   ],
   "source": [
    "\n",
    "# Stating the features used to build the model for Linear Regression\n",
    "features = ['Length1', 'Length2','Length3','Height','Width']\n",
    "model = LinearRegression().fit(train_data[features],train_data['Weight'])\n",
    "prediction_test = model.predict(test_data[features])\n",
    "prediction_train = model.predict(train_data[features])\n",
    "# Evaluation of the model \n",
    "test_mse = mean_squared_error(test_data['Weight'], prediction_test)\n",
    "test_rmse = math.sqrt(test_mse)\n",
    "\n",
    "train_mse = mean_squared_error(train_data['Weight'], prediction_train)\n",
    "train_rmse = math.sqrt(train_mse)\n",
    "\n",
    "print(\"The Train RMSE of all the features is : %f\" % train_rmse)\n",
    "print(\"The Test RMSE of all the features is : %f\" % test_rmse)\n",
    "\n",
    "print(\"The y - intercept is:\")\n",
    "print(model.intercept_)\n",
    "print(\"The coefficients are:\")\n",
    "print(model.coef_)"
   ]
  },
  {
   "cell_type": "markdown",
   "metadata": {},
   "source": [
    "Plot Learning Curve"
   ]
  },
  {
   "cell_type": "code",
   "execution_count": 63,
   "metadata": {},
   "outputs": [
    {
     "data": {
      "text/plain": [
       "Text(0, 0.5, 'RMSE')"
      ]
     },
     "execution_count": 63,
     "metadata": {},
     "output_type": "execute_result"
    },
    {
     "data": {
      "image/png": "[encoded data removed]",
      "text/plain": [
       "<Figure size 432x288 with 1 Axes>"
      ]
     },
     "metadata": {
      "needs_background": "light"
     },
     "output_type": "display_data"
    }
   ],
   "source": [
    "model =  LinearRegression()\n",
    "train_errors = []\n",
    "test_error = []\n",
    "X_train = train_data[features]\n",
    "y_train = train_data['Weight']\n",
    "X_test = test_data[features]\n",
    "y_test = test_data['Weight']\n",
    "for m in range(1,len(train_data)):\n",
    "    model.fit(X_train[:m], y_train[:m])\n",
    "    y_train_predict = model.predict(X_train[:m])\n",
    "    y_test_predict = model.predict(X_test)\n",
    "    train_errors.append(mean_squared_error(y_train[:m],y_train_predict))\n",
    "    test_error.append(mean_squared_error(y_test,y_test_predict))\n",
    "plt.plot(np.sqrt(train_errors), \"r-+\", linewidth = 1, label = \"train\")\n",
    "plt.plot(np.sqrt(test_error), \"b-\", linewidth = 1, label = \"test\")\n",
    "plt.title(\"Learning Curve\")\n",
    "plt.xlabel(\"Training Set Size\")\n",
    "plt.ylabel(\"RMSE\")\n",
    "    "
   ]
  },
  {
   "cell_type": "markdown",
   "metadata": {},
   "source": []
  },
  {
   "cell_type": "code",
   "execution_count": 82,
   "metadata": {},
   "outputs": [
    {
     "name": "stdout",
     "output_type": "stream",
     "text": [
      "The Train RMSE of all the features is : 117.013563\n",
      "The Test RMSE of all the features is : 138.760424\n"
     ]
    }
   ],
   "source": [
    "from sklearn.linear_model import Ridge\n",
    "ridge_model = Ridge(alpha=10)\n",
    "ridge_model.fit(train_data[features],train_data['Weight'])\n",
    "prediction_test = ridge_model.predict(test_data[features])\n",
    "prediction_train = ridge_model.predict(train_data[features])\n",
    "test_mse = mean_squared_error(test_data['Weight'], prediction_test)\n",
    "test_rmse = math.sqrt(test_mse)\n",
    "\n",
    "train_mse = mean_squared_error(train_data['Weight'], prediction_train)\n",
    "train_rmse = math.sqrt(train_mse)\n",
    "print(\"The Train RMSE of all the features is : %f\" % train_rmse)\n",
    "print(\"The Test RMSE of all the features is : %f\" % test_rmse)"
   ]
  },
  {
   "cell_type": "code",
   "execution_count": 85,
   "metadata": {},
   "outputs": [
    {
     "name": "stdout",
     "output_type": "stream",
     "text": [
      "The Train RMSE of all the features is : 116.484361\n",
      "The Test RMSE of all the features is : 140.546205\n"
     ]
    },
    {
     "name": "stderr",
     "output_type": "stream",
     "text": [
      "C:\\Users\\jose-\\anaconda3\\lib\\site-packages\\sklearn\\linear_model\\_coordinate_descent.py:529: ConvergenceWarning: Objective did not converge. You might want to increase the number of iterations. Duality gap: 853478.9631978784, tolerance: 1591.1535879685039\n",
      "  model = cd_fast.enet_coordinate_descent(\n"
     ]
    }
   ],
   "source": [
    "from sklearn.linear_model import Lasso\n",
    "lasso_model = Lasso(alpha=0.01)\n",
    "lasso_model.fit(train_data[features],train_data['Weight'])\n",
    "prediction_test = lasso_model.predict(test_data[features])\n",
    "prediction_train = lasso_model.predict(train_data[features])\n",
    "test_mse = mean_squared_error(test_data['Weight'], prediction_test)\n",
    "test_rmse = math.sqrt(test_mse)\n",
    "\n",
    "train_mse = mean_squared_error(train_data['Weight'], prediction_train)\n",
    "train_rmse = math.sqrt(train_mse)\n",
    "print(\"The Train RMSE of all the features is : %f\" % train_rmse)\n",
    "print(\"The Test RMSE of all the features is : %f\" % test_rmse)"
   ]
  }
 ],
 "metadata": {
  "interpreter": {
   "hash": "bc8a433f7e57b88de2f5bf68e19641abf0f5f56b5ff94f6b87a42ae2e2072a47"
  },
  "kernelspec": {
   "display_name": "Python 3.8.5 64-bit ('base': conda)",
   "language": "python",
   "name": "python3"
  },
  "language_info": {
   "codemirror_mode": {
    "name": "ipython",
    "version": 3
   },
   "file_extension": ".py",
   "mimetype": "text/x-python",
   "name": "python",
   "nbconvert_exporter": "python",
   "pygments_lexer": "ipython3",
   "version": "3.8.5"
  },
  "orig_nbformat": 4
 },
 "nbformat": 4,
 "nbformat_minor": 2
}
